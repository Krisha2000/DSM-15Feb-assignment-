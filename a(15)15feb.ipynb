{
 "cells": [
  {
   "cell_type": "markdown",
   "id": "1efefb30-3c22-49e9-a573-baef404b0bca",
   "metadata": {},
   "source": [
    "# Quetion : 1"
   ]
  },
  {
   "cell_type": "markdown",
   "id": "9744c6ff-dde3-4207-a6af-4413f1265dae",
   "metadata": {},
   "source": [
    "Multiprocessing in Python is a built-in package that allows the system to run multiple processes simultaneously. It will enable the breaking of applications into smaller threads that can run independently."
   ]
  },
  {
   "cell_type": "markdown",
   "id": "df2380f5-58f0-4a26-95b4-1993059e6788",
   "metadata": {},
   "source": [
    "# Quetion : 2"
   ]
  },
  {
   "cell_type": "markdown",
   "id": "790bd907-f364-4c2c-b85f-fad2e441350e",
   "metadata": {},
   "source": [
    "By formal definition, multithreading refers to the ability of a processor to execute multiple threads concurrently, where each thread runs a process. Whereas multiprocessing refers to the ability of a system to run multiple processors concurrently, where each processor can run one or more threads"
   ]
  },
  {
   "cell_type": "markdown",
   "id": "9a034521-50a0-4d4e-8ec4-a3d37e730bb8",
   "metadata": {},
   "source": [
    "# Quetion : 3"
   ]
  },
  {
   "cell_type": "code",
   "execution_count": 1,
   "id": "1758434f-7f52-495b-9ff0-ed79f2cca1cb",
   "metadata": {},
   "outputs": [],
   "source": [
    "import multiprocessing"
   ]
  },
  {
   "cell_type": "code",
   "execution_count": 2,
   "id": "03740f82-c28f-4e97-beb3-60eeac2a6bf6",
   "metadata": {},
   "outputs": [],
   "source": [
    "def namee(name):\n",
    "    print(name)"
   ]
  },
  {
   "cell_type": "code",
   "execution_count": 3,
   "id": "7be40f1d-c554-4d99-a86b-b1fe4195c2ac",
   "metadata": {},
   "outputs": [
    {
     "name": "stdout",
     "output_type": "stream",
     "text": [
      "bob\n"
     ]
    }
   ],
   "source": [
    "if __name__=='__main__':\n",
    "    p=multiprocessing.Process(target=namee,args=('bob',))\n",
    "    p.start()"
   ]
  },
  {
   "cell_type": "markdown",
   "id": "25c9449c-b5b6-4bbb-a466-8097475fc8eb",
   "metadata": {},
   "source": [
    "# Quetion : 4"
   ]
  },
  {
   "cell_type": "markdown",
   "id": "6cfb4cbb-1f3a-4e1f-981b-9bff49da9457",
   "metadata": {},
   "source": [
    "Python multiprocessing Pool can be used for parallel execution of a function across multiple input values, distributing the input data across processes (data parallelism)."
   ]
  },
  {
   "cell_type": "markdown",
   "id": "8d34f30b-3393-4857-867c-b4e5f3551841",
   "metadata": {},
   "source": [
    "# Quetion : 5"
   ]
  },
  {
   "cell_type": "code",
   "execution_count": 5,
   "id": "72faccd5-bfd8-49e5-92f3-a03399ff9c44",
   "metadata": {},
   "outputs": [
    {
     "name": "stdout",
     "output_type": "stream",
     "text": [
      "[1, 4, 9, 16, 25, 36]\n"
     ]
    }
   ],
   "source": [
    "import multiprocessing as mp \n",
    "def square(x): \n",
    "    return x*x \n",
    "if __name__ == '__main__':\n",
    "    pool = mp.Pool(processes=4) \n",
    "    results = [pool.apply(square, args=(x,)) for x in range(1,7)] \n",
    "    print(results)\n"
   ]
  },
  {
   "cell_type": "markdown",
   "id": "5ef6d3d7-b003-4114-804d-477b96459c5f",
   "metadata": {},
   "source": [
    "# Quetion : 6"
   ]
  },
  {
   "cell_type": "code",
   "execution_count": 12,
   "id": "b181f1fc-e688-4be9-bd58-7fb7316480c4",
   "metadata": {},
   "outputs": [
    {
     "name": "stdout",
     "output_type": "stream",
     "text": [
      "Process: Process-20 printed 1\n",
      "Process: Process-21 printed 2\n",
      "Process: Process-22 printed 3\n",
      "Process: Process-23 printed 4\n"
     ]
    }
   ],
   "source": [
    "import multiprocessing\n",
    "\n",
    "def print_number(number):\n",
    "    print(\"Process: {0} printed {1}\".format(multiprocessing.current_process().name, number))\n",
    "\n",
    "if __name__ == \"__main__\":\n",
    "    process1 = multiprocessing.Process(target=print_number, args=(1,))\n",
    "    process2 = multiprocessing.Process(target=print_number, args=(2,))\n",
    "    process3 = multiprocessing.Process(target=print_number, args=(3,))\n",
    "    process4 = multiprocessing.Process(target=print_number, args=(4,))\n",
    "\n",
    "    process1.start()\n",
    "    process2.start()\n",
    "    process3.start()\n",
    "    process4.start()\n",
    "\n",
    "    process1.join()\n",
    "    process2.join()\n",
    "    process3.join()\n",
    "    process4.join()"
   ]
  },
  {
   "cell_type": "code",
   "execution_count": null,
   "id": "06d56584-fa58-433f-8469-ce6a9d1ac978",
   "metadata": {},
   "outputs": [],
   "source": []
  }
 ],
 "metadata": {
  "kernelspec": {
   "display_name": "Python 3 (ipykernel)",
   "language": "python",
   "name": "python3"
  },
  "language_info": {
   "codemirror_mode": {
    "name": "ipython",
    "version": 3
   },
   "file_extension": ".py",
   "mimetype": "text/x-python",
   "name": "python",
   "nbconvert_exporter": "python",
   "pygments_lexer": "ipython3",
   "version": "3.10.8"
  }
 },
 "nbformat": 4,
 "nbformat_minor": 5
}
